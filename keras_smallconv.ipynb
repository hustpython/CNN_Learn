{
 "cells": [
  {
   "cell_type": "code",
   "execution_count": 39,
   "metadata": {
    "collapsed": false
   },
   "outputs": [
    {
     "name": "stdout",
     "output_type": "stream",
     "text": [
      "model import done !\n"
     ]
    }
   ],
   "source": [
    "from keras import layers\n",
    "from keras import models\n",
    "model = models.Sequential()\n",
    "#卷积层 参数: (3 * 3 *1 + 1) * 32 = 320\n",
    "model.add(layers.Conv2D(32, (3, 3), activation='relu', input_shape=(28, 28, 1)))\n",
    "#池化层 无参\n",
    "model.add(layers.MaxPooling2D((2, 2)))\n",
    "#卷积层:( 3*3*1*32 +1 ) * 64 = 18649\n",
    "model.add(layers.Conv2D(64, (3, 3), activation='relu'))\n",
    "#池化层 无参\n",
    "model.add(layers.MaxPooling2D((2, 2)))\n",
    "#卷积层 参数: (3* 3 * 64 +1) * 64 = 36928\n",
    "model.add(layers.Conv2D(64, (3, 3), activation='relu'))\n",
    "#BN层4个参数(均值,方差(不可训练),β,γ,(可学习))\n",
    "#BN层 参数: (64 *4 ) / 2 可学习,(64 * 4) / 2不可学习\n",
    "model.add(layers.BatchNormalization()) \n",
    "#Flatten 将2-D -> 1-D 3 * 3 * 64 = 576 无参\n",
    "model.add(layers.Flatten())\n",
    "#全连接层  (577 = (3 * 3 * 64 +1 +1) * 64 = 36928\n",
    "model.add(layers.Dense(64, activation='relu'))\n",
    "#全连接层 (4 + 1) * 10 = 50\n",
    "model.add(layers.Dense(10, activation='softmax'))\n",
    "print('model import done !')"
   ]
  },
  {
   "cell_type": "code",
   "execution_count": 37,
   "metadata": {
    "collapsed": false
   },
   "outputs": [
    {
     "name": "stdout",
     "output_type": "stream",
     "text": [
      "_________________________________________________________________\n",
      "Layer (type)                 Output Shape              Param #   \n",
      "=================================================================\n",
      "conv2d_28 (Conv2D)           (None, 26, 26, 32)        320       \n",
      "_________________________________________________________________\n",
      "max_pooling2d_19 (MaxPooling (None, 13, 13, 32)        0         \n",
      "_________________________________________________________________\n",
      "conv2d_29 (Conv2D)           (None, 11, 11, 64)        18496     \n",
      "_________________________________________________________________\n",
      "max_pooling2d_20 (MaxPooling (None, 5, 5, 64)          0         \n",
      "_________________________________________________________________\n",
      "conv2d_30 (Conv2D)           (None, 3, 3, 64)          36928     \n",
      "_________________________________________________________________\n",
      "batch_normalization_9 (Batch (None, 3, 3, 64)          256       \n",
      "_________________________________________________________________\n",
      "flatten_4 (Flatten)          (None, 576)               0         \n",
      "_________________________________________________________________\n",
      "dense_7 (Dense)              (None, 64)                36928     \n",
      "_________________________________________________________________\n",
      "dense_8 (Dense)              (None, 10)                650       \n",
      "=================================================================\n",
      "Total params: 93,578\n",
      "Trainable params: 93,450\n",
      "Non-trainable params: 128\n",
      "_________________________________________________________________\n"
     ]
    }
   ],
   "source": [
    "model.summary()"
   ]
  },
  {
   "cell_type": "code",
   "execution_count": 32,
   "metadata": {
    "collapsed": false
   },
   "outputs": [
    {
     "name": "stdout",
     "output_type": "stream",
     "text": [
      "model import done !\n"
     ]
    }
   ],
   "source": [
    "from keras import layers\n",
    "from keras import models\n",
    "model = models.Sequential()\n",
    "#卷积层 参数: (3 * 3 *3 + 1) * 32 = 896\n",
    "model.add(layers.Conv2D(32, (3, 3), activation='relu', input_shape=(28, 28, 3)))\n",
    "#池化层 无参\n",
    "model.add(layers.MaxPooling2D((2, 2)))\n",
    "#卷积层:( 3*3*1*32 +1 ) * 64 \n",
    "model.add(layers.Conv2D(64, (3, 3), activation='relu'))\n",
    "#池化层 无参\n",
    "model.add(layers.MaxPooling2D((2, 2)))\n",
    "#卷积层 参数: (3* 3 * 64 +1) * 64 = 36928\n",
    "model.add(layers.Conv2D(64, (3, 3), activation='relu'))\n",
    "#BN层4个参数(均值,方差(不可训练),β,γ,(可学习))\n",
    "#BN层 参数: (64 *4 ) / 2 可学习,(64 * 4) / 2不可学习\n",
    "model.add(layers.BatchNormalization()) \n",
    "\n",
    "\n",
    "#Flatten 将2-D -> 1-D 3 * 3 * 64 = 576 无参\n",
    "model.add(layers.Flatten())\n",
    "#全连接层 \n",
    "model.add(layers.Dense(64, activation='relu'))\n",
    "model.add(layers.Dense(10, activation='softmax'))\n",
    "print('model import done !')"
   ]
  },
  {
   "cell_type": "code",
   "execution_count": 33,
   "metadata": {
    "collapsed": false
   },
   "outputs": [
    {
     "name": "stdout",
     "output_type": "stream",
     "text": [
      "_________________________________________________________________\n",
      "Layer (type)                 Output Shape              Param #   \n",
      "=================================================================\n",
      "conv2d_22 (Conv2D)           (None, 26, 26, 32)        896       \n",
      "_________________________________________________________________\n",
      "max_pooling2d_15 (MaxPooling (None, 13, 13, 32)        0         \n",
      "_________________________________________________________________\n",
      "conv2d_23 (Conv2D)           (None, 11, 11, 64)        18496     \n",
      "_________________________________________________________________\n",
      "max_pooling2d_16 (MaxPooling (None, 5, 5, 64)          0         \n",
      "_________________________________________________________________\n",
      "conv2d_24 (Conv2D)           (None, 3, 3, 64)          36928     \n",
      "_________________________________________________________________\n",
      "batch_normalization_7 (Batch (None, 3, 3, 64)          256       \n",
      "_________________________________________________________________\n",
      "flatten_2 (Flatten)          (None, 576)               0         \n",
      "_________________________________________________________________\n",
      "dense_3 (Dense)              (None, 64)                36928     \n",
      "_________________________________________________________________\n",
      "dense_4 (Dense)              (None, 10)                650       \n",
      "=================================================================\n",
      "Total params: 94,154\n",
      "Trainable params: 94,026\n",
      "Non-trainable params: 128\n",
      "_________________________________________________________________\n"
     ]
    }
   ],
   "source": [
    "model.summary()"
   ]
  },
  {
   "cell_type": "code",
   "execution_count": 17,
   "metadata": {
    "collapsed": false
   },
   "outputs": [
    {
     "data": {
      "text/plain": [
       "array([[ 6.91261130e-308,  6.91261130e-308,  6.91261192e-308,\n",
       "         4.94065646e-321,  0.00000000e+000,  0.00000000e+000,\n",
       "         0.00000000e+000,  6.91247059e-308,  0.00000000e+000,\n",
       "         0.00000000e+000],\n",
       "       [ 1.15568874e+228,  6.91260412e-308,  6.91260075e-308,\n",
       "         0.00000000e+000,  0.00000000e+000,  0.00000000e+000,\n",
       "        -8.87764542e-190,  6.91260038e-308,  6.91261224e-308,\n",
       "         0.00000000e+000],\n",
       "       [ 0.00000000e+000,  0.00000000e+000,  1.57295868e+094,\n",
       "         6.91260957e-308,  6.91261221e-308,  0.00000000e+000,\n",
       "         0.00000000e+000,  0.00000000e+000,  0.00000000e+000,\n",
       "         0.00000000e+000],\n",
       "       [ 0.00000000e+000,  0.00000000e+000,  0.00000000e+000,\n",
       "         0.00000000e+000, -4.47110505e-279,  6.91260038e-308,\n",
       "         6.91261224e-308,  0.00000000e+000,  0.00000000e+000,\n",
       "         0.00000000e+000],\n",
       "       [ 0.00000000e+000,  0.00000000e+000,  0.00000000e+000,\n",
       "         4.41136331e-034,  6.91261075e-308,  6.91261211e-308,\n",
       "         4.45196284e+250,  6.91260757e-308,  6.91261211e-308,\n",
       "         3.07557039e+186],\n",
       "       [ 6.91260036e-308,  6.91261213e-308,  6.91247052e-308,\n",
       "         0.00000000e+000,  0.00000000e+000,  6.91247052e-308,\n",
       "         0.00000000e+000,  0.00000000e+000, -1.39704368e+140,\n",
       "         6.91260768e-308],\n",
       "       [ 6.91261213e-308,  0.00000000e+000,  0.00000000e+000,\n",
       "         0.00000000e+000,  1.57561481e-151,  6.91261027e-308,\n",
       "         6.91261211e-308,  7.55032975e-025,  6.91260036e-308,\n",
       "         6.91261213e-308],\n",
       "       [ 0.00000000e+000,  0.00000000e+000,  0.00000000e+000,\n",
       "         6.91260119e-308,  0.00000000e+000,  0.00000000e+000,\n",
       "         6.91250447e-308,  0.00000000e+000,  0.00000000e+000,\n",
       "         6.91247062e-308],\n",
       "       [ 0.00000000e+000,  0.00000000e+000,  6.91250447e-308,\n",
       "         0.00000000e+000,  0.00000000e+000,  6.91250426e-308,\n",
       "         0.00000000e+000,  0.00000000e+000,  0.00000000e+000,\n",
       "         0.00000000e+000],\n",
       "       [ 0.00000000e+000,  0.00000000e+000,  0.00000000e+000,\n",
       "         0.00000000e+000, -6.55973464e+064,  6.91260036e-308,\n",
       "         6.91260038e-308,  0.00000000e+000,  0.00000000e+000,\n",
       "         0.00000000e+000]])"
      ]
     },
     "execution_count": 17,
     "metadata": {},
     "output_type": "execute_result"
    }
   ],
   "source": [
    "import numpy as np\n",
    "x = np.empty(shape=(10,10))\n",
    "x"
   ]
  },
  {
   "cell_type": "code",
   "execution_count": 51,
   "metadata": {
    "collapsed": false
   },
   "outputs": [],
   "source": [
    "import keras.backend as K\n",
    "def bitchnormalization(X,gamma,beta):\n",
    "    epsilon = 0.01\n",
    "    m = K.mean(X, axis=-1, keepdims=True)#计算均值  \n",
    "    std = K.std(X, axis=-1, keepdims=True)#计算标准差  \n",
    "    X_normed = (X - m) / (std + epsilon)#归一化  \n",
    "    out = gamma * X_normed + beta#重构变换  \n",
    "    return out"
   ]
  },
  {
   "cell_type": "code",
   "execution_count": 55,
   "metadata": {
    "collapsed": false
   },
   "outputs": [
    {
     "name": "stdout",
     "output_type": "stream",
     "text": [
      "Tensor(\"Const_10:0\", shape=(333, 500, 3), dtype=float16)\n"
     ]
    },
    {
     "data": {
      "text/plain": [
       "<tf.Tensor 'strided_slice_3:0' shape=(500, 3) dtype=float16>"
      ]
     },
     "execution_count": 55,
     "metadata": {},
     "output_type": "execute_result"
    }
   ],
   "source": [
    "from skimage import io\n",
    "import tensorflow as tf\n",
    "\n",
    "x1 = io.imread('dog.png')\n",
    "x1 = tf.convert_to_tensor(x1,'float16')\n",
    "print(x1)\n",
    "bitchnormalization(x1,0.9,0.9)[0]"
   ]
  }
 ],
 "metadata": {
  "anaconda-cloud": {},
  "kernelspec": {
   "display_name": "Python [conda root]",
   "language": "python",
   "name": "conda-root-py"
  },
  "language_info": {
   "codemirror_mode": {
    "name": "ipython",
    "version": 3
   },
   "file_extension": ".py",
   "mimetype": "text/x-python",
   "name": "python",
   "nbconvert_exporter": "python",
   "pygments_lexer": "ipython3",
   "version": "3.5.2"
  }
 },
 "nbformat": 4,
 "nbformat_minor": 1
}
