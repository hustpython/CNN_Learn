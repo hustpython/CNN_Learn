{
 "cells": [
  {
   "cell_type": "code",
   "execution_count": 10,
   "metadata": {
    "collapsed": false
   },
   "outputs": [
    {
     "name": "stdout",
     "output_type": "stream",
     "text": [
      "model import done !\n"
     ]
    }
   ],
   "source": [
    "from keras import layers\n",
    "from keras import models\n",
    "model = models.Sequential()\n",
    "#卷积层 参数: (3 * 3 *1 + 1) * 32 = 320\n",
    "model.add(layers.Conv2D(32, (3, 3), activation='relu', input_shape=(28, 28, 1)))\n",
    "#池化层 无参\n",
    "model.add(layers.MaxPooling2D((2, 2)))\n",
    "#卷积层:( 3*3*1*32 +1 ) * 64 \n",
    "model.add(layers.Conv2D(64, (3, 3), activation='relu'))\n",
    "#池化层 无参\n",
    "model.add(layers.MaxPooling2D((2, 2)))\n",
    "#卷积层 参数: (3* 3 * 64 +1) * 64 = 36928\n",
    "model.add(layers.Conv2D(64, (3, 3), activation='relu'))\n",
    "#BN层4个参数(均值,方差(不可训练),β,γ,(可学习))\n",
    "#BN层 参数: (64 *4 ) / 2 可学习,(64 * 4) / 2不可学习\n",
    "model.add(layers.BatchNormalization()) \n",
    "print('model import done !')"
   ]
  },
  {
   "cell_type": "code",
   "execution_count": 11,
   "metadata": {
    "collapsed": false
   },
   "outputs": [
    {
     "name": "stdout",
     "output_type": "stream",
     "text": [
      "_________________________________________________________________\n",
      "Layer (type)                 Output Shape              Param #   \n",
      "=================================================================\n",
      "conv2d_13 (Conv2D)           (None, 26, 26, 32)        320       \n",
      "_________________________________________________________________\n",
      "max_pooling2d_9 (MaxPooling2 (None, 13, 13, 32)        0         \n",
      "_________________________________________________________________\n",
      "conv2d_14 (Conv2D)           (None, 11, 11, 64)        18496     \n",
      "_________________________________________________________________\n",
      "max_pooling2d_10 (MaxPooling (None, 5, 5, 64)          0         \n",
      "_________________________________________________________________\n",
      "conv2d_15 (Conv2D)           (None, 3, 3, 64)          36928     \n",
      "_________________________________________________________________\n",
      "batch_normalization_4 (Batch (None, 3, 3, 64)          256       \n",
      "=================================================================\n",
      "Total params: 56,000\n",
      "Trainable params: 55,872\n",
      "Non-trainable params: 128\n",
      "_________________________________________________________________\n"
     ]
    }
   ],
   "source": [
    "model.summary()"
   ]
  },
  {
   "cell_type": "code",
   "execution_count": 12,
   "metadata": {
    "collapsed": false
   },
   "outputs": [
    {
     "name": "stdout",
     "output_type": "stream",
     "text": [
      "model import done !\n"
     ]
    }
   ],
   "source": [
    "from keras import layers\n",
    "from keras import models\n",
    "model = models.Sequential()\n",
    "#卷积层 参数: (3 * 3 *3 + 1) * 32 = 896\n",
    "model.add(layers.Conv2D(32, (3, 3), activation='relu', input_shape=(28, 28, 3)))\n",
    "#池化层 无参\n",
    "model.add(layers.MaxPooling2D((2, 2)))\n",
    "#卷积层:( 3*3*1*32 +1 ) * 64 \n",
    "model.add(layers.Conv2D(64, (3, 3), activation='relu'))\n",
    "#池化层 无参\n",
    "model.add(layers.MaxPooling2D((2, 2)))\n",
    "#卷积层 参数: (3* 3 * 64 +1) * 64 = 36928\n",
    "model.add(layers.Conv2D(64, (3, 3), activation='relu'))\n",
    "#BN层4个参数(均值,方差(不可训练),β,γ,(可学习))\n",
    "#BN层 参数: (64 *4 ) / 2 可学习,(64 * 4) / 2不可学习\n",
    "model.add(layers.BatchNormalization()) \n",
    "print('model import done !')"
   ]
  },
  {
   "cell_type": "code",
   "execution_count": 13,
   "metadata": {
    "collapsed": false
   },
   "outputs": [
    {
     "name": "stdout",
     "output_type": "stream",
     "text": [
      "_________________________________________________________________\n",
      "Layer (type)                 Output Shape              Param #   \n",
      "=================================================================\n",
      "conv2d_16 (Conv2D)           (None, 26, 26, 32)        896       \n",
      "_________________________________________________________________\n",
      "max_pooling2d_11 (MaxPooling (None, 13, 13, 32)        0         \n",
      "_________________________________________________________________\n",
      "conv2d_17 (Conv2D)           (None, 11, 11, 64)        18496     \n",
      "_________________________________________________________________\n",
      "max_pooling2d_12 (MaxPooling (None, 5, 5, 64)          0         \n",
      "_________________________________________________________________\n",
      "conv2d_18 (Conv2D)           (None, 3, 3, 64)          36928     \n",
      "_________________________________________________________________\n",
      "batch_normalization_5 (Batch (None, 3, 3, 64)          256       \n",
      "=================================================================\n",
      "Total params: 56,576\n",
      "Trainable params: 56,448\n",
      "Non-trainable params: 128\n",
      "_________________________________________________________________\n"
     ]
    }
   ],
   "source": [
    "model.summary()"
   ]
  },
  {
   "cell_type": "code",
   "execution_count": null,
   "metadata": {
    "collapsed": true
   },
   "outputs": [],
   "source": []
  }
 ],
 "metadata": {
  "anaconda-cloud": {},
  "kernelspec": {
   "display_name": "Python [conda root]",
   "language": "python",
   "name": "conda-root-py"
  },
  "language_info": {
   "codemirror_mode": {
    "name": "ipython",
    "version": 3
   },
   "file_extension": ".py",
   "mimetype": "text/x-python",
   "name": "python",
   "nbconvert_exporter": "python",
   "pygments_lexer": "ipython3",
   "version": "3.5.2"
  }
 },
 "nbformat": 4,
 "nbformat_minor": 1
}
